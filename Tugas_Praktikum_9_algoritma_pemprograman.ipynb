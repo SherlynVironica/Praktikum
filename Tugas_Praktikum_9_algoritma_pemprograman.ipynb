{
  "nbformat": 4,
  "nbformat_minor": 0,
  "metadata": {
    "colab": {
      "provenance": [],
      "authorship_tag": "ABX9TyMsjEL4jDtnPm7wHVGoAb64",
      "include_colab_link": true
    },
    "kernelspec": {
      "name": "python3",
      "display_name": "Python 3"
    },
    "language_info": {
      "name": "python"
    }
  },
  "cells": [
    {
      "cell_type": "markdown",
      "metadata": {
        "id": "view-in-github",
        "colab_type": "text"
      },
      "source": [
        "<a href=\"https://colab.research.google.com/github/SherlynVironica/Praktikum/blob/main/Tugas_Praktikum_9_algoritma_pemprograman.ipynb\" target=\"_parent\"><img src=\"https://colab.research.google.com/assets/colab-badge.svg\" alt=\"Open In Colab\"/></a>"
      ]
    },
    {
      "cell_type": "code",
      "execution_count": null,
      "metadata": {
        "colab": {
          "base_uri": "https://localhost:8080/"
        },
        "id": "s4oeaICr63J4",
        "outputId": "6a13d5aa-b517-4982-e2c6-ad72b5d34f76"
      },
      "outputs": [
        {
          "output_type": "stream",
          "name": "stdout",
          "text": [
            "iterasi 0 [98, 3, 5, 6, 2, 78, 4]\n",
            "iterasi 1 [98, 78, 5, 6, 2, 3, 4]\n",
            "iterasi 2 [98, 78, 6, 5, 2, 3, 4]\n",
            "iterasi 3 [98, 78, 6, 5, 2, 3, 4]\n",
            "iterasi 4 [98, 78, 6, 5, 4, 3, 2]\n",
            "iterasi 5 [98, 78, 6, 5, 4, 3, 2]\n",
            "iterasi 6 [98, 78, 6, 5, 4, 3, 2]\n"
          ]
        }
      ],
      "source": [
        "#DESCENDING\n",
        "def Selection_Sort(A):\n",
        "  for i in range(len(A)):\n",
        "    min_idx = i\n",
        "    for j in range (i+1, len(A)):\n",
        "      if A[min_idx] < A[j]:\n",
        "          min_idx = j\n",
        "    A[i], A[min_idx] = A[min_idx], A[i] # pertukaran phyton\n",
        "    print ('iterasi', i, A)\n",
        "A = [4,3,5,6,2,78,98]\n",
        "Selection_Sort(A)"
      ]
    },
    {
      "cell_type": "code",
      "source": [
        "#DESCENDING\n",
        "def Selection_Sort(A):\n",
        "  for i in range(len(A)):\n",
        "    min_idx = i\n",
        "    for j in range(i+1, len(A)):\n",
        "      if A[min_idx] < A[j]:\n",
        "          min_idx = j\n",
        "    A[i], A[min_idx] = A[min_idx], A[i] #pertukaran phyton\n",
        "    print('index key :', i, 'tukar :', min_idx)\n",
        "    print('iterasi', i, A)\n",
        "\n",
        "A = [4,3,5,6,2,78,98]\n",
        "Selection_Sort(A)"
      ],
      "metadata": {
        "colab": {
          "base_uri": "https://localhost:8080/"
        },
        "id": "5yne8YeD9IVo",
        "outputId": "fbaa6b8f-010a-4efb-d272-89518d6115c7"
      },
      "execution_count": null,
      "outputs": [
        {
          "output_type": "stream",
          "name": "stdout",
          "text": [
            "index key : 0 tukar : 6\n",
            "iterasi 0 [98, 3, 5, 6, 2, 78, 4]\n",
            "index key : 1 tukar : 5\n",
            "iterasi 1 [98, 78, 5, 6, 2, 3, 4]\n",
            "index key : 2 tukar : 3\n",
            "iterasi 2 [98, 78, 6, 5, 2, 3, 4]\n",
            "index key : 3 tukar : 3\n",
            "iterasi 3 [98, 78, 6, 5, 2, 3, 4]\n",
            "index key : 4 tukar : 6\n",
            "iterasi 4 [98, 78, 6, 5, 4, 3, 2]\n",
            "index key : 5 tukar : 5\n",
            "iterasi 5 [98, 78, 6, 5, 4, 3, 2]\n",
            "index key : 6 tukar : 6\n",
            "iterasi 6 [98, 78, 6, 5, 4, 3, 2]\n"
          ]
        }
      ]
    }
  ]
}