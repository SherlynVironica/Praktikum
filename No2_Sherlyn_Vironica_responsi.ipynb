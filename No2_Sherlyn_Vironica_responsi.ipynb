{
  "nbformat": 4,
  "nbformat_minor": 0,
  "metadata": {
    "colab": {
      "provenance": []
    },
    "kernelspec": {
      "name": "python3",
      "display_name": "Python 3"
    },
    "language_info": {
      "name": "python"
    }
  },
  "cells": [
    {
      "cell_type": "code",
      "execution_count": 45,
      "metadata": {
        "id": "TuCFYr25rZW2"
      },
      "outputs": [],
      "source": [
        "import numpy as np"
      ]
    },
    {
      "cell_type": "code",
      "source": [
        "# Mendefinisikan matriks A dan B berdasarkan persamaan\n",
        "A = np.array([[1,1,-1], [1,2,1], [2,1,1]])\n",
        "B = np.array([[-3], [7], [4]])\n",
        "\n",
        "print(A)\n",
        "print()\n",
        "print(B)"
      ],
      "metadata": {
        "colab": {
          "base_uri": "https://localhost:8080/"
        },
        "id": "GcPTpYEpdzCe",
        "outputId": "9ee6ace8-0e32-4030-91c0-b881159a4086"
      },
      "execution_count": 46,
      "outputs": [
        {
          "output_type": "stream",
          "name": "stdout",
          "text": [
            "[[ 1  1 -1]\n",
            " [ 1  2  1]\n",
            " [ 2  1  1]]\n",
            "\n",
            "[[-3]\n",
            " [ 7]\n",
            " [ 4]]\n"
          ]
        }
      ]
    },
    {
      "cell_type": "code",
      "source": [
        "# Mengubah matriks A menjadi U\n",
        "U = A\n",
        "print(U)"
      ],
      "metadata": {
        "colab": {
          "base_uri": "https://localhost:8080/"
        },
        "id": "3IGfwr-IsA95",
        "outputId": "11b07529-2d9d-46a6-f888-2f72f29c432b"
      },
      "execution_count": 47,
      "outputs": [
        {
          "output_type": "stream",
          "name": "stdout",
          "text": [
            "[[ 1  1 -1]\n",
            " [ 1  2  1]\n",
            " [ 2  1  1]]\n"
          ]
        }
      ]
    },
    {
      "cell_type": "code",
      "source": [
        "#-2B2+B3\n",
        "U[2,:] = (-2)*U[1,:]+U[2,:]\n",
        "print(U)"
      ],
      "metadata": {
        "colab": {
          "base_uri": "https://localhost:8080/"
        },
        "id": "9Kw2_UdTyMR0",
        "outputId": "7e2982f6-b27f-479e-8c58-ef47a3631647"
      },
      "execution_count": 48,
      "outputs": [
        {
          "output_type": "stream",
          "name": "stdout",
          "text": [
            "[[ 1  1 -1]\n",
            " [ 1  2  1]\n",
            " [ 0 -3 -1]]\n"
          ]
        }
      ]
    },
    {
      "cell_type": "code",
      "source": [
        "# -B1+B2\n",
        "U[1,:] = (-1)*U[0,:]+U[1,:]\n",
        "print(U)"
      ],
      "metadata": {
        "colab": {
          "base_uri": "https://localhost:8080/"
        },
        "id": "wO_QHneTsPR1",
        "outputId": "20e38ce8-bc55-439e-be82-a953674cfcb5"
      },
      "execution_count": 49,
      "outputs": [
        {
          "output_type": "stream",
          "name": "stdout",
          "text": [
            "[[ 1  1 -1]\n",
            " [ 0  1  2]\n",
            " [ 0 -3 -1]]\n"
          ]
        }
      ]
    },
    {
      "cell_type": "code",
      "source": [
        "# 3B2+B3\n",
        "U[2,:] = (3)*U[1,:]+U[2,:]\n",
        "print(U)"
      ],
      "metadata": {
        "colab": {
          "base_uri": "https://localhost:8080/"
        },
        "id": "MvETTPJuseY-",
        "outputId": "e62f2739-2c8e-4125-9c6f-eb05c56f859c"
      },
      "execution_count": 50,
      "outputs": [
        {
          "output_type": "stream",
          "name": "stdout",
          "text": [
            "[[ 1  1 -1]\n",
            " [ 0  1  2]\n",
            " [ 0  0  5]]\n"
          ]
        }
      ]
    },
    {
      "cell_type": "code",
      "source": [
        "\n",
        "#menetukan L\n",
        "L = np.array([[1,0,0],[1,1,0],[2,-1,1]])\n",
        "print(L)"
      ],
      "metadata": {
        "colab": {
          "base_uri": "https://localhost:8080/"
        },
        "id": "Xb8V4-GjtUEs",
        "outputId": "4c7cc97f-4357-4c7a-eeaa-3d2925445f30"
      },
      "execution_count": 51,
      "outputs": [
        {
          "output_type": "stream",
          "name": "stdout",
          "text": [
            "[[ 1  0  0]\n",
            " [ 1  1  0]\n",
            " [ 2 -1  1]]\n"
          ]
        }
      ]
    },
    {
      "cell_type": "code",
      "source": [
        "# L U benar?\n",
        "A = np.dot(L,U)\n",
        "print (A)"
      ],
      "metadata": {
        "colab": {
          "base_uri": "https://localhost:8080/"
        },
        "id": "9ZfsGeu8wYTg",
        "outputId": "8c49e625-5b5a-4972-e071-b5323956bd4b"
      },
      "execution_count": 52,
      "outputs": [
        {
          "output_type": "stream",
          "name": "stdout",
          "text": [
            "[[ 1  1 -1]\n",
            " [ 1  2  1]\n",
            " [ 2  1  1]]\n"
          ]
        }
      ]
    }
  ]
}