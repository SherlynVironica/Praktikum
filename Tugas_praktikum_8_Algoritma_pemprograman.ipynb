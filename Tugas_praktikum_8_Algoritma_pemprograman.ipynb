{
  "nbformat": 4,
  "nbformat_minor": 0,
  "metadata": {
    "colab": {
      "provenance": [],
      "authorship_tag": "ABX9TyPBCP9yvA1yoSjLRzQX0dcT",
      "include_colab_link": true
    },
    "kernelspec": {
      "name": "python3",
      "display_name": "Python 3"
    },
    "language_info": {
      "name": "python"
    }
  },
  "cells": [
    {
      "cell_type": "markdown",
      "metadata": {
        "id": "view-in-github",
        "colab_type": "text"
      },
      "source": [
        "<a href=\"https://colab.research.google.com/github/SherlynVironica/Praktikum/blob/main/Tugas_praktikum_8_Algoritma_pemprograman.ipynb\" target=\"_parent\"><img src=\"https://colab.research.google.com/assets/colab-badge.svg\" alt=\"Open In Colab\"/></a>"
      ]
    },
    {
      "cell_type": "code",
      "execution_count": null,
      "metadata": {
        "id": "hcXL_JAx8ekE"
      },
      "outputs": [],
      "source": [
        "#fungsi fibonaci menggunakan for\n",
        "def fibonaci(n):\n",
        "  a=0\n",
        "  b=1\n",
        "  for i in range(2,n+1):\n",
        "      hasil=b+a\n",
        "      a=b\n",
        "      b=hasil\n",
        "  return hasil"
      ]
    },
    {
      "cell_type": "code",
      "source": [
        "#fungsi fibonaci menggunakan while\n",
        "def fibonaci_while(n):\n",
        "  a= 0\n",
        "  b=1\n",
        "  i=2\n",
        "  while i <= n:\n",
        "      hasil = a + b\n",
        "      a = b\n",
        "      b = hasil\n",
        "      i += 1\n",
        "  return hasil"
      ],
      "metadata": {
        "id": "KvyhLYGE8qph"
      },
      "execution_count": null,
      "outputs": []
    },
    {
      "cell_type": "code",
      "source": [
        "#menghitung dalam rekrusi\n",
        "def pangkat(x):\n",
        "     if x==0:\n",
        "        return 1\n",
        "     else:\n",
        "        return 2*pangkat(x-1)"
      ],
      "metadata": {
        "id": "NMvNEU2f8321"
      },
      "execution_count": null,
      "outputs": []
    },
    {
      "cell_type": "code",
      "source": [
        "#menggunakan perulangan\n",
        "def pangkat_perulangan(x):\n",
        "  hasil=1\n",
        "  i=1\n",
        "  while i<=x:\n",
        "    hasil = hasil*2\n",
        "    i+=1\n",
        "  return hasil"
      ],
      "metadata": {
        "id": "TEkY6LPd9oPm"
      },
      "execution_count": null,
      "outputs": []
    },
    {
      "cell_type": "code",
      "source": [
        "#menggunakan iterasi\n",
        "def pangkat_iterasi(x):\n",
        "  hasil=1\n",
        "  for i in range(1,x+1):\n",
        "    hasil = hasil*2\n",
        "\n",
        "  return hasil"
      ],
      "metadata": {
        "id": "6idu1vxC91UL"
      },
      "execution_count": null,
      "outputs": []
    },
    {
      "cell_type": "code",
      "source": [],
      "metadata": {
        "id": "mvX7rBYT-TzC"
      },
      "execution_count": null,
      "outputs": []
    }
  ]
}