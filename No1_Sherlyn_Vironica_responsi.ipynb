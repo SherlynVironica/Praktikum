{
  "nbformat": 4,
  "nbformat_minor": 0,
  "metadata": {
    "colab": {
      "provenance": []
    },
    "kernelspec": {
      "name": "python3",
      "display_name": "Python 3"
    },
    "language_info": {
      "name": "python"
    }
  },
  "cells": [
    {
      "cell_type": "code",
      "execution_count": 5,
      "metadata": {
        "id": "Vt41iJ13k-_y"
      },
      "outputs": [],
      "source": [
        "import numpy as np"
      ]
    },
    {
      "cell_type": "markdown",
      "source": [
        "tujuh tahun yang lalu umur Ani sama dengan 6 kali umur Budi. Empat tahun yang akan datang 2 kali umur Ani sama dengan 5 kali umur Budi di tambah dengan 9 tahun. Tentukan umur Budi dan Ani sekarang dengan menggunakan eliminasi Gauss!"
      ],
      "metadata": {
        "id": "ko3puyO3mcqc"
      }
    },
    {
      "cell_type": "code",
      "source": [
        "# Definisikan ubah persamaan ke bentuk matriks A dan B\n",
        "A = np.array ([[1, -6], [2, -5]])\n",
        "B = np.array ([[7], [4]])\n",
        "\n",
        "print (A)\n",
        "print ()\n",
        "print (B)"
      ],
      "metadata": {
        "colab": {
          "base_uri": "https://localhost:8080/"
        },
        "id": "VbQj7uTGlz-G",
        "outputId": "b01f6c2e-b3c7-4944-abd7-503e92108c77"
      },
      "execution_count": 8,
      "outputs": [
        {
          "output_type": "stream",
          "name": "stdout",
          "text": [
            "[[ 1 -6]\n",
            " [ 2 -5]]\n",
            "\n",
            "[[7]\n",
            " [4]]\n"
          ]
        }
      ]
    },
    {
      "cell_type": "code",
      "source": [
        "C = np.insert(A, [2], B, axis=1)\n",
        "print (C)"
      ],
      "metadata": {
        "colab": {
          "base_uri": "https://localhost:8080/"
        },
        "id": "6xd4nFojptul",
        "outputId": "a315ba6b-0794-4498-ba6a-5854a2052e4b"
      },
      "execution_count": 10,
      "outputs": [
        {
          "output_type": "stream",
          "name": "stdout",
          "text": [
            "[[ 1 -6  7]\n",
            " [ 2 -5  4]]\n"
          ]
        }
      ]
    },
    {
      "cell_type": "code",
      "source": [
        "#-2B1+B2\n",
        "C[1,:] = -2*C[0,:]+C[1,:]\n",
        "print(C)"
      ],
      "metadata": {
        "colab": {
          "base_uri": "https://localhost:8080/"
        },
        "id": "RkQ58oarqIvj",
        "outputId": "0b035231-4db7-44e1-9bde-c4b3706f6b0e"
      },
      "execution_count": 11,
      "outputs": [
        {
          "output_type": "stream",
          "name": "stdout",
          "text": [
            "[[  1  -6   7]\n",
            " [  0   7 -10]]\n"
          ]
        }
      ]
    }
  ]
}