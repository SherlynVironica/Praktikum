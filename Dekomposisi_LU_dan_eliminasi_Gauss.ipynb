{
  "nbformat": 4,
  "nbformat_minor": 0,
  "metadata": {
    "colab": {
      "provenance": [],
      "include_colab_link": true
    },
    "kernelspec": {
      "name": "python3",
      "display_name": "Python 3"
    },
    "language_info": {
      "name": "python"
    }
  },
  "cells": [
    {
      "cell_type": "markdown",
      "metadata": {
        "id": "view-in-github",
        "colab_type": "text"
      },
      "source": [
        "<a href=\"https://colab.research.google.com/github/SherlynVironica/Praktikum/blob/main/Dekomposisi_LU_dan_eliminasi_Gauss.ipynb\" target=\"_parent\"><img src=\"https://colab.research.google.com/assets/colab-badge.svg\" alt=\"Open In Colab\"/></a>"
      ]
    },
    {
      "cell_type": "code",
      "execution_count": null,
      "metadata": {
        "id": "Ma6nINqhNvTt"
      },
      "outputs": [],
      "source": [
        "import numpy as np"
      ]
    },
    {
      "cell_type": "code",
      "source": [
        "S = np.array([[1,1,0,0],[1,1,1,0],[0,1,1,1],[1,0,1,0]])\n",
        "G = np.array([[1,0,0,0,1,0,1],[0,1,0,0,1,1,1],[0,0,1,0,1,1,0],[0,0,0,1,0,1,1]])\n",
        "P = np.array([[0,0,0,0,0,1,0],[1,0,0,0,0,0,0],[0,0,1,0,0,0,0],[0,1,0,0,0,0,0],\n",
        "              [0,0,0,0,1,0,0],[0,0,0,0,0,0,1],[0,0,0,1,0,0,0]])\n",
        "\n",
        "\n",
        "print(S)\n",
        "print()\n",
        "print(G)\n",
        "print()\n",
        "print(P)"
      ],
      "metadata": {
        "colab": {
          "base_uri": "https://localhost:8080/"
        },
        "id": "xyo20dfzN6NM",
        "outputId": "047a5c2a-1e27-4977-c497-999e25ccdff3"
      },
      "execution_count": null,
      "outputs": [
        {
          "output_type": "stream",
          "name": "stdout",
          "text": [
            "[[1 1 0 0]\n",
            " [1 1 1 0]\n",
            " [0 1 1 1]\n",
            " [1 0 1 0]]\n",
            "\n",
            "[[1 0 0 0 1 0 1]\n",
            " [0 1 0 0 1 1 1]\n",
            " [0 0 1 0 1 1 0]\n",
            " [0 0 0 1 0 1 1]]\n",
            "\n",
            "[[0 0 0 0 0 1 0]\n",
            " [1 0 0 0 0 0 0]\n",
            " [0 0 1 0 0 0 0]\n",
            " [0 1 0 0 0 0 0]\n",
            " [0 0 0 0 1 0 0]\n",
            " [0 0 0 0 0 0 1]\n",
            " [0 0 0 1 0 0 0]]\n"
          ]
        }
      ]
    },
    {
      "cell_type": "code",
      "source": [
        "SG = np.dot(A,B)\n",
        "print(SG)"
      ],
      "metadata": {
        "colab": {
          "base_uri": "https://localhost:8080/"
        },
        "id": "laX4RT4RobGZ",
        "outputId": "94f22c66-36c2-4f8b-aa29-c496833b7113"
      },
      "execution_count": null,
      "outputs": [
        {
          "output_type": "stream",
          "name": "stdout",
          "text": [
            "[[1 1 0 0 2 1 2]\n",
            " [1 1 1 0 3 2 2]\n",
            " [0 1 1 1 2 3 2]\n",
            " [1 0 1 0 2 1 1]]\n"
          ]
        }
      ]
    },
    {
      "cell_type": "code",
      "source": [
        "SS = np.array([[1,1,0,0,0,1,0],[1,1,1,0,1,0,0],[0,1,1,1,0,1,0],[1,0,1,0,0,1,1]])\n",
        "print(SS)"
      ],
      "metadata": {
        "colab": {
          "base_uri": "https://localhost:8080/"
        },
        "id": "r_6mAbzhpi0L",
        "outputId": "df329ebe-7bcc-487c-ba74-b332cdcdd884"
      },
      "execution_count": null,
      "outputs": [
        {
          "output_type": "stream",
          "name": "stdout",
          "text": [
            "[[1 1 0 0 0 1 0]\n",
            " [1 1 1 0 1 0 0]\n",
            " [0 1 1 1 0 1 0]\n",
            " [1 0 1 0 0 1 1]]\n"
          ]
        }
      ]
    },
    {
      "cell_type": "code",
      "source": [
        "SGP = np.dot(SS,P)\n",
        "print(SGP)"
      ],
      "metadata": {
        "id": "tV0pWVuUp4tJ",
        "outputId": "debd2d0d-22e2-4d0b-befe-c82cdef6a611",
        "colab": {
          "base_uri": "https://localhost:8080/"
        }
      },
      "execution_count": null,
      "outputs": [
        {
          "output_type": "stream",
          "name": "stdout",
          "text": [
            "[[1 0 0 0 0 1 1]\n",
            " [1 0 1 0 1 1 0]\n",
            " [1 1 1 0 0 0 1]\n",
            " [0 0 1 1 0 1 1]]\n"
          ]
        }
      ]
    },
    {
      "cell_type": "code",
      "source": [
        "AB = np.insert(A,[3],B,axis=1)\n",
        "print(AB)"
      ],
      "metadata": {
        "colab": {
          "base_uri": "https://localhost:8080/"
        },
        "id": "-8YP9As_Odt1",
        "outputId": "863ae60f-fbb3-443e-81f5-0b3e3b5e0674"
      },
      "execution_count": null,
      "outputs": [
        {
          "output_type": "stream",
          "name": "stdout",
          "text": [
            "[[ 2  6  2  2]\n",
            " [-3 -8  0  2]\n",
            " [ 4  9  2  3]]\n"
          ]
        }
      ]
    },
    {
      "cell_type": "code",
      "source": [
        "AB[0,:] = AB[0,:]*(1/2) #1/2B1\n",
        "print(AB)"
      ],
      "metadata": {
        "colab": {
          "base_uri": "https://localhost:8080/"
        },
        "id": "nbwinxeSOktl",
        "outputId": "ecd3d43d-07ff-4e7a-c87e-1d215289d28e"
      },
      "execution_count": null,
      "outputs": [
        {
          "output_type": "stream",
          "name": "stdout",
          "text": [
            "[[ 1  3  1  1]\n",
            " [-3 -8  0  2]\n",
            " [ 4  9  2  3]]\n"
          ]
        }
      ]
    },
    {
      "cell_type": "code",
      "source": [
        "AB[2,:] = (-4)*AB[0,:] + AB[2,:]\n",
        "print(AB)"
      ],
      "metadata": {
        "colab": {
          "base_uri": "https://localhost:8080/"
        },
        "id": "ba_ORMG6PWuG",
        "outputId": "89e3097b-25b7-4255-a52e-6e10059c9ae7"
      },
      "execution_count": null,
      "outputs": [
        {
          "output_type": "stream",
          "name": "stdout",
          "text": [
            "[[ 1  3  1  1]\n",
            " [-3 -8  0  2]\n",
            " [ 0 -3 -2 -1]]\n"
          ]
        }
      ]
    },
    {
      "cell_type": "code",
      "source": [
        "AB[1,:] = 3*AB[0,:] + AB[1,:]\n",
        "print(AB)"
      ],
      "metadata": {
        "colab": {
          "base_uri": "https://localhost:8080/"
        },
        "id": "xldqqLuvQdZS",
        "outputId": "4c3cda25-88a3-4252-fb69-b5006992a812"
      },
      "execution_count": null,
      "outputs": [
        {
          "output_type": "stream",
          "name": "stdout",
          "text": [
            "[[ 1  3  1  1]\n",
            " [ 0  1  3  5]\n",
            " [ 0 -3 -2 -1]]\n"
          ]
        }
      ]
    },
    {
      "cell_type": "code",
      "source": [
        "AB[2,:] = 3*AB[1,:] + AB[2,:]\n",
        "print(AB)"
      ],
      "metadata": {
        "colab": {
          "base_uri": "https://localhost:8080/"
        },
        "id": "tyPLpjWzQ0r9",
        "outputId": "afdd9857-53bc-4bf0-b993-7ef0f7cf1185"
      },
      "execution_count": null,
      "outputs": [
        {
          "output_type": "stream",
          "name": "stdout",
          "text": [
            "[[ 1  3  1  1]\n",
            " [ 0  1  3  5]\n",
            " [ 0  0  7 14]]\n"
          ]
        }
      ]
    },
    {
      "cell_type": "code",
      "source": [
        "AB[2,:] = (1/7)*AB[2,:]\n",
        "print(AB)"
      ],
      "metadata": {
        "colab": {
          "base_uri": "https://localhost:8080/"
        },
        "id": "hUm6jbKCRBxn",
        "outputId": "e6a07278-40ef-47bc-8457-eb4aee215ed5"
      },
      "execution_count": null,
      "outputs": [
        {
          "output_type": "stream",
          "name": "stdout",
          "text": [
            "[[1 3 1 1]\n",
            " [0 1 3 5]\n",
            " [0 0 1 2]]\n"
          ]
        }
      ]
    },
    {
      "cell_type": "code",
      "source": [
        "AB[0,:] = (-3)*AB[1,:] + AB[0,:]\n",
        "print(AB)"
      ],
      "metadata": {
        "colab": {
          "base_uri": "https://localhost:8080/"
        },
        "id": "9Rh6GTRiRfze",
        "outputId": "f4c6d531-c8c0-4847-999f-34d3e091de08"
      },
      "execution_count": null,
      "outputs": [
        {
          "output_type": "stream",
          "name": "stdout",
          "text": [
            "[[  1   0  -8 -14]\n",
            " [  0   1   3   5]\n",
            " [  0   0   1   2]]\n"
          ]
        }
      ]
    },
    {
      "cell_type": "code",
      "source": [
        "AB[0,:] = 8*AB[2,:] + AB[0,:]\n",
        "print(AB)"
      ],
      "metadata": {
        "colab": {
          "base_uri": "https://localhost:8080/"
        },
        "id": "roHVtcVhSZwJ",
        "outputId": "7ddc841b-951b-4593-acf8-d7a78d0d6f23"
      },
      "execution_count": null,
      "outputs": [
        {
          "output_type": "stream",
          "name": "stdout",
          "text": [
            "[[1 0 0 2]\n",
            " [0 1 3 5]\n",
            " [0 0 1 2]]\n"
          ]
        }
      ]
    },
    {
      "cell_type": "code",
      "source": [
        "AB[1,:] = (-3)*AB[2,:] + AB[1,:]\n",
        "print(AB)"
      ],
      "metadata": {
        "colab": {
          "base_uri": "https://localhost:8080/"
        },
        "id": "J37YZSeSSjQD",
        "outputId": "80551b99-a40e-4b1b-d55c-e9153add4b79"
      },
      "execution_count": null,
      "outputs": [
        {
          "output_type": "stream",
          "name": "stdout",
          "text": [
            "[[ 1  0  0  2]\n",
            " [ 0  1  0 -1]\n",
            " [ 0  0  1  2]]\n"
          ]
        }
      ]
    },
    {
      "cell_type": "markdown",
      "source": [
        "Sehingga nilai x1=2, x2=-1, dan x3=2"
      ],
      "metadata": {
        "id": "ZklVozxSSwev"
      }
    },
    {
      "cell_type": "markdown",
      "source": [
        "#Dekomposisi LU"
      ],
      "metadata": {
        "id": "J6-TI2uuUZe-"
      }
    },
    {
      "cell_type": "code",
      "source": [
        "import numpy as np"
      ],
      "metadata": {
        "id": "akyk-a_dStRD"
      },
      "execution_count": null,
      "outputs": []
    },
    {
      "cell_type": "code",
      "source": [
        "A = np.array([[2,6,2],[-3,-8,0],[4,9,2]])\n",
        "B = np.array([[2],[2],[3]])\n",
        "\n",
        "print(A)\n",
        "print()\n",
        "print(B)"
      ],
      "metadata": {
        "colab": {
          "base_uri": "https://localhost:8080/"
        },
        "id": "8h8yIalAUowe",
        "outputId": "bfe00a23-5d27-4477-c89a-e1699eb6122e"
      },
      "execution_count": null,
      "outputs": [
        {
          "output_type": "stream",
          "name": "stdout",
          "text": [
            "[[ 2  6  2]\n",
            " [-3 -8  0]\n",
            " [ 4  9  2]]\n",
            "\n",
            "[[2]\n",
            " [2]\n",
            " [3]]\n"
          ]
        }
      ]
    },
    {
      "cell_type": "code",
      "source": [
        "A[0,:] = (1/2)*A[0,:]\n",
        "print(A)"
      ],
      "metadata": {
        "colab": {
          "base_uri": "https://localhost:8080/"
        },
        "id": "X_JUki1TU5zg",
        "outputId": "672e728f-57ad-4ec6-854c-b89edd708e95"
      },
      "execution_count": null,
      "outputs": [
        {
          "output_type": "stream",
          "name": "stdout",
          "text": [
            "[[ 1  3  1]\n",
            " [-3 -8  0]\n",
            " [ 4  9  2]]\n"
          ]
        }
      ]
    },
    {
      "cell_type": "code",
      "source": [
        "A[1,:] = 3*A[0,:] + A[1,:]\n",
        "print(A)"
      ],
      "metadata": {
        "colab": {
          "base_uri": "https://localhost:8080/"
        },
        "id": "JCJs3djoVP2s",
        "outputId": "bbb4b43e-ed60-420c-b540-2e0211f907da"
      },
      "execution_count": null,
      "outputs": [
        {
          "output_type": "stream",
          "name": "stdout",
          "text": [
            "[[1 3 1]\n",
            " [0 1 3]\n",
            " [4 9 2]]\n"
          ]
        }
      ]
    },
    {
      "cell_type": "code",
      "source": [
        "A[2,:] = (-4)*A[0,:] + A[2,:]\n",
        "print(A)"
      ],
      "metadata": {
        "colab": {
          "base_uri": "https://localhost:8080/"
        },
        "id": "uMLASrq1Vcjt",
        "outputId": "84f4fa2b-5251-4d77-8b0c-79399d0e4b4d"
      },
      "execution_count": null,
      "outputs": [
        {
          "output_type": "stream",
          "name": "stdout",
          "text": [
            "[[ 1  3  1]\n",
            " [ 0  1  3]\n",
            " [ 0 -3 -2]]\n"
          ]
        }
      ]
    },
    {
      "cell_type": "code",
      "source": [
        "A[2,:] = 3*A[1,:] + A[2,:]\n",
        "print(A)"
      ],
      "metadata": {
        "colab": {
          "base_uri": "https://localhost:8080/"
        },
        "id": "9IhoJzrqVppB",
        "outputId": "afaec5e7-c375-4f92-de6c-dae5bc772b93"
      },
      "execution_count": null,
      "outputs": [
        {
          "output_type": "stream",
          "name": "stdout",
          "text": [
            "[[1 3 1]\n",
            " [0 1 3]\n",
            " [0 0 7]]\n"
          ]
        }
      ]
    },
    {
      "cell_type": "code",
      "source": [
        "A[2,:] = (1/7)*A[2,:]\n",
        "print(A)"
      ],
      "metadata": {
        "colab": {
          "base_uri": "https://localhost:8080/"
        },
        "id": "WdU9osT5V2QK",
        "outputId": "e10825be-e972-4cb9-b1b5-cda2fb88c138"
      },
      "execution_count": null,
      "outputs": [
        {
          "output_type": "stream",
          "name": "stdout",
          "text": [
            "[[1 3 1]\n",
            " [0 1 3]\n",
            " [0 0 1]]\n"
          ]
        }
      ]
    },
    {
      "cell_type": "code",
      "source": [
        "U = A\n",
        "print(U)"
      ],
      "metadata": {
        "colab": {
          "base_uri": "https://localhost:8080/"
        },
        "id": "YZSWQM3UWCh_",
        "outputId": "e48abe67-cbc3-4f2d-ec6e-88f94850a89c"
      },
      "execution_count": null,
      "outputs": [
        {
          "output_type": "stream",
          "name": "stdout",
          "text": [
            "[[1 3 1]\n",
            " [0 1 3]\n",
            " [0 0 1]]\n"
          ]
        }
      ]
    },
    {
      "cell_type": "code",
      "source": [
        "L1 = np.array([1/2,0,0])\n",
        "L1_inv = np.array([2,0,0])\n",
        "print(L1_inv)"
      ],
      "metadata": {
        "colab": {
          "base_uri": "https://localhost:8080/"
        },
        "id": "V4p-Y1agWJnZ",
        "outputId": "6a68ebdd-1b86-4981-9299-c2e8ebce0288"
      },
      "execution_count": null,
      "outputs": [
        {
          "output_type": "stream",
          "name": "stdout",
          "text": [
            "[2 0 0]\n"
          ]
        }
      ]
    },
    {
      "cell_type": "code",
      "source": [
        "L2 = np.array([3,1,0])\n",
        "L2_inv = np.array([-3,1,0])\n",
        "print(L2_inv)"
      ],
      "metadata": {
        "colab": {
          "base_uri": "https://localhost:8080/"
        },
        "id": "2mvCmvixXMa_",
        "outputId": "5fb99f07-fc9d-4075-a0e5-631a1f3d8a58"
      },
      "execution_count": null,
      "outputs": [
        {
          "output_type": "stream",
          "name": "stdout",
          "text": [
            "[-3  1  0]\n"
          ]
        }
      ]
    },
    {
      "cell_type": "code",
      "source": [
        "L3 = np.array([-4,0,1])\n",
        "L3_inv = np.array([4,0,1])\n",
        "print(L3_inv)"
      ],
      "metadata": {
        "colab": {
          "base_uri": "https://localhost:8080/"
        },
        "id": "SrxHagteXh-j",
        "outputId": "a187a214-1993-4058-c006-6cb04f4afc3c"
      },
      "execution_count": null,
      "outputs": [
        {
          "output_type": "stream",
          "name": "stdout",
          "text": [
            "[4 0 1]\n"
          ]
        }
      ]
    },
    {
      "cell_type": "code",
      "source": [
        "L4 = np.array([0,3,1])\n",
        "L4_inv = np.array([0,-3,1])\n",
        "print(L4_inv)"
      ],
      "metadata": {
        "colab": {
          "base_uri": "https://localhost:8080/"
        },
        "id": "uwxtJOarX85u",
        "outputId": "43c923a7-36ca-4563-b052-35f92371bcb1"
      },
      "execution_count": null,
      "outputs": [
        {
          "output_type": "stream",
          "name": "stdout",
          "text": [
            "[ 0 -3  1]\n"
          ]
        }
      ]
    },
    {
      "cell_type": "code",
      "source": [
        "L5 = np.array([0,0,1/7])\n",
        "L5_inv = np.array([0,0,7])"
      ],
      "metadata": {
        "id": "ycKFcvbcYX4V"
      },
      "execution_count": null,
      "outputs": []
    },
    {
      "cell_type": "code",
      "source": [
        "L6_inv = np.array([4,-3,7])"
      ],
      "metadata": {
        "id": "Q3wb6u5lY1HT"
      },
      "execution_count": null,
      "outputs": []
    },
    {
      "cell_type": "code",
      "source": [
        "L = np.array([L1_inv, L2_inv,L6_inv])\n",
        "print(L)"
      ],
      "metadata": {
        "colab": {
          "base_uri": "https://localhost:8080/"
        },
        "id": "h2UYf4IpZKMK",
        "outputId": "f60a9dec-adfe-44eb-95f1-68c4a7996ff2"
      },
      "execution_count": null,
      "outputs": [
        {
          "output_type": "stream",
          "name": "stdout",
          "text": [
            "[[ 2  0  0]\n",
            " [-3  1  0]\n",
            " [ 4 -3  7]]\n"
          ]
        }
      ]
    },
    {
      "cell_type": "code",
      "source": [
        "A = np.dot(L,U)\n",
        "print(A)"
      ],
      "metadata": {
        "colab": {
          "base_uri": "https://localhost:8080/"
        },
        "id": "noX3c3LdZVz3",
        "outputId": "3f1646e0-d0cf-4b86-b853-c704de1cfb54"
      },
      "execution_count": null,
      "outputs": [
        {
          "output_type": "stream",
          "name": "stdout",
          "text": [
            "[[ 2  6  2]\n",
            " [-3 -8  0]\n",
            " [ 4  9  2]]\n"
          ]
        }
      ]
    },
    {
      "cell_type": "markdown",
      "source": [
        "#Dekomposisi LU Gauss"
      ],
      "metadata": {
        "id": "B505xMH4h9rs"
      }
    },
    {
      "cell_type": "code",
      "source": [
        "L = np.array([[2,0,0],[-3,1,0],[4,-3,7]])\n",
        "B = np.array([[2],[2],[3]])\n",
        "C = np.insert(L,[3], B, axis=1)\n",
        "print(C)"
      ],
      "metadata": {
        "id": "HhvgNKOdZikq",
        "colab": {
          "base_uri": "https://localhost:8080/"
        },
        "outputId": "712dd014-7654-4c84-9cc7-55527a9df0e6"
      },
      "execution_count": null,
      "outputs": [
        {
          "output_type": "stream",
          "name": "stdout",
          "text": [
            "[[ 2  0  0  2]\n",
            " [-3  1  0  2]\n",
            " [ 4 -3  7  3]]\n"
          ]
        }
      ]
    },
    {
      "cell_type": "code",
      "source": [
        "C[0,:] = (1/2)*C[0,:]\n",
        "print(C)"
      ],
      "metadata": {
        "colab": {
          "base_uri": "https://localhost:8080/"
        },
        "id": "scJjqKOdiXmD",
        "outputId": "5a7bca92-71d4-47d7-f01a-c1ea6fb88196"
      },
      "execution_count": null,
      "outputs": [
        {
          "output_type": "stream",
          "name": "stdout",
          "text": [
            "[[ 1  0  0  1]\n",
            " [-3  1  0  2]\n",
            " [ 4 -3  7  3]]\n"
          ]
        }
      ]
    },
    {
      "cell_type": "code",
      "source": [
        "C[1,:] = 3*C[0,:] + C[1,:]\n",
        "print(C)"
      ],
      "metadata": {
        "colab": {
          "base_uri": "https://localhost:8080/"
        },
        "id": "Dp1EvXSjii5T",
        "outputId": "50425c59-dd14-4998-c284-32b9b2d3ca82"
      },
      "execution_count": null,
      "outputs": [
        {
          "output_type": "stream",
          "name": "stdout",
          "text": [
            "[[ 1  0  0  1]\n",
            " [ 0  1  0  5]\n",
            " [ 4 -3  7  3]]\n"
          ]
        }
      ]
    },
    {
      "cell_type": "code",
      "source": [
        "C[2,:] = (-4)*C[0,:] + C[2,:]\n",
        "print(C)"
      ],
      "metadata": {
        "colab": {
          "base_uri": "https://localhost:8080/"
        },
        "id": "g95NfXK8i8gj",
        "outputId": "652cade2-0625-4323-a87a-c9f2d450b86d"
      },
      "execution_count": null,
      "outputs": [
        {
          "output_type": "stream",
          "name": "stdout",
          "text": [
            "[[ 1  0  0  1]\n",
            " [ 0  1  0  5]\n",
            " [ 0 -3  7 -1]]\n"
          ]
        }
      ]
    },
    {
      "cell_type": "code",
      "source": [
        "C[2,:] = 3*C[1,:] + C[2,:]\n",
        "print(C)"
      ],
      "metadata": {
        "colab": {
          "base_uri": "https://localhost:8080/"
        },
        "id": "8SlQZHm-jFyI",
        "outputId": "9c9ace5a-f3dc-4202-a1df-0bfdef227729"
      },
      "execution_count": null,
      "outputs": [
        {
          "output_type": "stream",
          "name": "stdout",
          "text": [
            "[[ 1  0  0  1]\n",
            " [ 0  1  0  5]\n",
            " [ 0  0  7 14]]\n"
          ]
        }
      ]
    },
    {
      "cell_type": "code",
      "source": [
        "C[2,:] = 1/7*C[2,:]\n",
        "print(C)"
      ],
      "metadata": {
        "colab": {
          "base_uri": "https://localhost:8080/"
        },
        "id": "-t8Hs90njTbi",
        "outputId": "3e9b8675-6447-4826-a480-6feb198831cb"
      },
      "execution_count": null,
      "outputs": [
        {
          "output_type": "stream",
          "name": "stdout",
          "text": [
            "[[1 0 0 1]\n",
            " [0 1 0 5]\n",
            " [0 0 1 2]]\n"
          ]
        }
      ]
    },
    {
      "cell_type": "markdown",
      "source": [
        "Y1=1, Y2=5, Y3=2"
      ],
      "metadata": {
        "id": "CNXhMR18kfiI"
      }
    },
    {
      "cell_type": "code",
      "source": [
        "U = np.array([[1,3,1],[0,1,3],[0,0,1]])\n",
        "Y = np.array([[1],[5],[2]])\n",
        "\n",
        "X = np.insert(U, [3], Y, axis=1)\n",
        "print(X)"
      ],
      "metadata": {
        "colab": {
          "base_uri": "https://localhost:8080/"
        },
        "id": "ffqs9Aavjfgd",
        "outputId": "e24e1a47-162b-4630-d4fa-4a5216c4de91"
      },
      "execution_count": null,
      "outputs": [
        {
          "output_type": "stream",
          "name": "stdout",
          "text": [
            "[[1 3 1 1]\n",
            " [0 1 3 5]\n",
            " [0 0 1 2]]\n"
          ]
        }
      ]
    },
    {
      "cell_type": "code",
      "source": [
        "X[0,:] = (-3)*X[1,:] + X[0,:]\n",
        "print(X)"
      ],
      "metadata": {
        "colab": {
          "base_uri": "https://localhost:8080/"
        },
        "id": "neTA_pvWkzks",
        "outputId": "08762497-8814-49fe-e978-c5b3cefd0eed"
      },
      "execution_count": null,
      "outputs": [
        {
          "output_type": "stream",
          "name": "stdout",
          "text": [
            "[[  1   0  -8 -14]\n",
            " [  0   1   3   5]\n",
            " [  0   0   1   2]]\n"
          ]
        }
      ]
    },
    {
      "cell_type": "code",
      "source": [
        "X[0,:] = (8)*X[2,:] + X[0,:]\n",
        "print(X)"
      ],
      "metadata": {
        "colab": {
          "base_uri": "https://localhost:8080/"
        },
        "id": "BOaikrFxlXL2",
        "outputId": "e5ae5cde-31eb-4505-8b6b-2cd7cdbff423"
      },
      "execution_count": null,
      "outputs": [
        {
          "output_type": "stream",
          "name": "stdout",
          "text": [
            "[[1 0 0 2]\n",
            " [0 1 3 5]\n",
            " [0 0 1 2]]\n"
          ]
        }
      ]
    },
    {
      "cell_type": "code",
      "source": [
        "X[1,:] = (-3)*X[2,:] + X[1,:]\n",
        "print(X)"
      ],
      "metadata": {
        "colab": {
          "base_uri": "https://localhost:8080/"
        },
        "id": "hCUQnFrNlux3",
        "outputId": "8cf161b6-4322-4819-f5ed-e7bb3db7fc04"
      },
      "execution_count": null,
      "outputs": [
        {
          "output_type": "stream",
          "name": "stdout",
          "text": [
            "[[ 1  0  0  2]\n",
            " [ 0  1  0 -1]\n",
            " [ 0  0  1  2]]\n"
          ]
        }
      ]
    },
    {
      "cell_type": "code",
      "source": [],
      "metadata": {
        "id": "_NowFE4vl5Up"
      },
      "execution_count": null,
      "outputs": []
    }
  ]
}